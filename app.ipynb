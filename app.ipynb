{
 "cells": [
  {
   "cell_type": "code",
   "execution_count": null,
   "id": "b7d94a98",
   "metadata": {},
   "outputs": [
    {
     "name": "stdout",
     "output_type": "stream",
     "text": [
      " * Serving Flask app \"__main__\" (lazy loading)\n",
      " * Environment: production\n",
      "\u001b[31m   WARNING: This is a development server. Do not use it in a production deployment.\u001b[0m\n",
      "\u001b[2m   Use a production WSGI server instead.\u001b[0m\n",
      " * Debug mode: on\n"
     ]
    },
    {
     "name": "stderr",
     "output_type": "stream",
     "text": [
      " * Running on http://127.0.0.1:5000/ (Press CTRL+C to quit)\n",
      "127.0.0.1 - - [22/Feb/2022 18:27:34] \"GET / HTTP/1.1\" 200 -\n",
      "127.0.0.1 - - [22/Feb/2022 18:27:34] \"GET /favicon.ico HTTP/1.1\" 404 -\n",
      "127.0.0.1 - - [22/Feb/2022 18:27:36] \"POST /p HTTP/1.1\" 200 -\n"
     ]
    }
   ],
   "source": [
    "import numpy as np\n",
    "from flask import Flask,request,render_template\n",
    "import pickle\n",
    "loaded_model = pickle.load(open('model_pickle.pkl','rb')) \n",
    "app = Flask(__name__)\n",
    "\n",
    "@app.route('/')\n",
    "def home():\n",
    "    return render_template('index.html')\n",
    "    \n",
    "@app.route('/p',methods=['POST'])\n",
    "def predict():\n",
    "    # getting the values of independent variables from server\n",
    "    if request.method==\"POST\":\n",
    "        output = request.form.to_dict()\n",
    "        Month = output['MonthValue']\n",
    "        DayofMonth =output['DayofMonthValue']\n",
    "        DayofWeek  = output['DayofWeekValue']\n",
    "        Destination = output['DestiValue']\n",
    "        DepDelay = output['DepDelayValue']\n",
    "        SchDepTime = output['SchDepTimeValue']\n",
    "        SchArrTime  = output['SchArrTimeValue']\n",
    "        Duration   = output['DurationValue']\n",
    "        TotalScheduled  = output['TotalScheduledValue']\n",
    "        AvgSpeed  = output['AvgSpeedValue']\n",
    "        Temperature  = output['TemperatureValue']\n",
    "        Pressure  = output['PressureValue']\n",
    "        Dew  = output['DewValue']\n",
    "        Humidity  = output['HumidityValue']\n",
    "        WindSpeed  = output['WindSpeedValue']\n",
    "        Wind  =output['WindValue']\n",
    "        WindGust  = output['WindGustValue']\n",
    "        Condition=output['ConditionValue']\n",
    "        \n",
    "        #converting these values into list\n",
    "        ValueArray = list([ Month, DayofMonth, DayofWeek, Destination, DepDelay, Duration, SchDepTime, SchArrTime, Temperature, Dew, Humidity, Wind, WindSpeed, WindGust, Pressure, Condition, TotalScheduled, AvgSpeed ])\n",
    "    \n",
    "        # converting the time from(HH:MM) to minutes (0 to 14400)        \n",
    "        ValueArray[6] = (int(ValueArray[6].split(':')[0]) * 60) + (int(ValueArray[6].split(':')[1]) * 1)\n",
    "        ValueArray[7] = (int(ValueArray[7].split(':')[0]) * 60) + (int(ValueArray[7].split(':')[1]) * 1)\n",
    "        \n",
    "        # converting to array\n",
    "        ValueArray=list(map(float,ValueArray))\n",
    "        ValueArray = np.array(ValueArray).reshape(1,-1).flatten()\n",
    "        \n",
    "        # min max scaling\n",
    "        ValueArray[1] = ((ValueArray[1] * 1) - 1) / (31 - 1)\n",
    "        ValueArray[2] = ((ValueArray[2] * 1) - 1) / (7 - 1)\n",
    "    \n",
    "        # transformations\n",
    "        ValueArray[4] = np.cbrt(ValueArray[4] * 1)\n",
    "        ValueArray[5] = np.log(ValueArray[5] * 1)\n",
    "        ValueArray[16] = np.power((ValueArray[16] * 1), 3)\n",
    "    \n",
    "        # Standard scaling\n",
    "        ScaleArray = [[ 0, 0, 0, 0, -4.48541610e-01,  5.26745748e+00,8.30488227e+02, 9.10254381e+02,  4.15495108e+01,  3.06773465e+01, 5.81878651e+01, 0, 1.20508547e+01, 0, 3.00918310e+01, 0, 2.38756486e+05,  4.99314984e+00],[ 1, 1, 1, 1, 1.98131375e+00,  5.65632200e-01,  2.99871664e+02, 3.45860197e+02,  7.76191155e+00,  1.19208650e+01, 2.33795502e+01, 1, 5.93881074e+00, 1, 2.91169450e-01, 1, 1.18471648e+05,  1.42228659e+00]]  # mean and std\n",
    "        \n",
    "        for i in ([3,4,5,6,7,8,9,10,11,12,14,15,16,17]):\n",
    "            ValueArray[i] = ((ValueArray[i] * 1) - ScaleArray[0][i]) / (ScaleArray[1][i])\n",
    "            \n",
    "        ValueArray=ValueArray.reshape(1,18)\n",
    "            \n",
    "        #predicting using the loaded model\n",
    "        result = loaded_model.predict(ValueArray)\n",
    "        if int(result)==1:\n",
    "            prediction='Taxi out delay is more than 20 mins'\n",
    "        elif int(result)==0:\n",
    "            prediction='Taxi out delay is less than 20 mins'\n",
    "        return render_template('index.html',pred=prediction)\n",
    "\n",
    "        \n",
    "if __name__=='__main__':\n",
    "    app.run(debug=True,use_reloader=False)"
   ]
  },
  {
   "cell_type": "code",
   "execution_count": null,
   "id": "3d2d1297",
   "metadata": {},
   "outputs": [],
   "source": []
  }
 ],
 "metadata": {
  "kernelspec": {
   "display_name": "Python 3 (ipykernel)",
   "language": "python",
   "name": "python3"
  },
  "language_info": {
   "codemirror_mode": {
    "name": "ipython",
    "version": 3
   },
   "file_extension": ".py",
   "mimetype": "text/x-python",
   "name": "python",
   "nbconvert_exporter": "python",
   "pygments_lexer": "ipython3",
   "version": "3.9.7"
  }
 },
 "nbformat": 4,
 "nbformat_minor": 5
}
